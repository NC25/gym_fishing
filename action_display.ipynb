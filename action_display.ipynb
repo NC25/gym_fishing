{
  "nbformat": 4,
  "nbformat_minor": 0,
  "metadata": {
    "colab": {
      "name": "action-display.ipynb",
      "provenance": [],
      "collapsed_sections": [],
      "authorship_tag": "ABX9TyNSzN8PlkrnYuKAG67mE+e+",
      "include_colab_link": true
    },
    "kernelspec": {
      "name": "python3",
      "display_name": "Python 3"
    }
  },
  "cells": [
    {
      "cell_type": "markdown",
      "metadata": {
        "id": "view-in-github",
        "colab_type": "text"
      },
      "source": [
        "<a href=\"https://colab.research.google.com/github/NC25/gym_fishing/blob/action-display/action_display.ipynb\" target=\"_parent\"><img src=\"https://colab.research.google.com/assets/colab-badge.svg\" alt=\"Open In Colab\"/></a>"
      ]
    },
    {
      "cell_type": "code",
      "metadata": {
        "id": "0I4saG_82ABY",
        "colab_type": "code",
        "colab": {}
      },
      "source": [
        "!pip install 'gym==0.10.11'\n",
        "!pip install matplotlib\n",
        "!pip install 'pybullet==2.4.2'\n",
        "!pip install 'pyglet==1.3.2'"
      ],
      "execution_count": null,
      "outputs": []
    },
    {
      "cell_type": "code",
      "metadata": {
        "id": "AxvisHLiRlK8",
        "colab_type": "code",
        "colab": {}
      },
      "source": [
        "%tensorflow_version 1.x\n",
        "!apt-get install ffmpeg freeglut3-dev xvfb\n",
        "!pip install stable-baselines[mpi]==2.10.0"
      ],
      "execution_count": null,
      "outputs": []
    },
    {
      "cell_type": "code",
      "metadata": {
        "id": "0wdSEKvERvbv",
        "colab_type": "code",
        "colab": {}
      },
      "source": [
        " !git clone https://github.com/boettiger-lab/gym_fishing.git"
      ],
      "execution_count": null,
      "outputs": []
    },
    {
      "cell_type": "code",
      "metadata": {
        "id": "zGwUXDnJRz1m",
        "colab_type": "code",
        "colab": {}
      },
      "source": [
        "!python gym_fishing/setup.py sdist bdist_wheel "
      ],
      "execution_count": null,
      "outputs": []
    },
    {
      "cell_type": "code",
      "metadata": {
        "id": "HKuyTGHFR3Ys",
        "colab_type": "code",
        "colab": {}
      },
      "source": [
        "!pip install -e ./gym_fishing/"
      ],
      "execution_count": null,
      "outputs": []
    },
    {
      "cell_type": "code",
      "metadata": {
        "id": "XYZ8gouoR7bE",
        "colab_type": "code",
        "colab": {}
      },
      "source": [
        "!ls"
      ],
      "execution_count": null,
      "outputs": []
    },
    {
      "cell_type": "code",
      "metadata": {
        "id": "RjSHwot7R-ts",
        "colab_type": "code",
        "colab": {}
      },
      "source": [
        "!cd gym_fishing"
      ],
      "execution_count": 8,
      "outputs": []
    },
    {
      "cell_type": "code",
      "metadata": {
        "id": "ifaayVoxSAye",
        "colab_type": "code",
        "colab": {}
      },
      "source": [
        "import gym_fishing"
      ],
      "execution_count": 9,
      "outputs": []
    },
    {
      "cell_type": "code",
      "metadata": {
        "id": "2daALumqSEIW",
        "colab_type": "code",
        "colab": {}
      },
      "source": [
        "import gym\n",
        "import numpy as np\n",
        "\n",
        "from stable_baselines.sac.policies import MlpPolicy\n",
        "from stable_baselines import SAC"
      ],
      "execution_count": null,
      "outputs": []
    },
    {
      "cell_type": "code",
      "metadata": {
        "id": "vuwivslHU38_",
        "colab_type": "code",
        "colab": {}
      },
      "source": [
        "# Remove warnings\n",
        "import os\n",
        "os.environ['TF_CPP_MIN_LOG_LEVEL'] = '3'  # or any {'0', '1', '2'}\n",
        "import warnings\n",
        "warnings.simplefilter(action='ignore', category=FutureWarning)\n",
        "warnings.simplefilter(action='ignore', category=Warning)\n",
        "import tensorflow as tf\n",
        "tf.get_logger().setLevel('INFO')\n",
        "tf.autograph.set_verbosity(0)\n",
        "import logging\n",
        "tf.get_logger().setLevel(logging.ERROR)"
      ],
      "execution_count": 12,
      "outputs": []
    },
    {
      "cell_type": "code",
      "metadata": {
        "id": "noer21GFSJbw",
        "colab_type": "code",
        "colab": {
          "base_uri": "https://localhost:8080/",
          "height": 1000
        },
        "outputId": "d9cd52c4-96e8-4f3d-ddcb-106c44510d70"
      },
      "source": [
        "#Training\n",
        "model = env = gym.make('fishing-v1')\n",
        "model = SAC(MlpPolicy, env, verbose=1)\n",
        "model.learn(total_timesteps=50, log_interval=10)\n",
        "model.save(\"fishing-v1\")\n",
        "model = SAC.load('fishing-v1')\n",
        "\n",
        "model = SAC(MlpPolicy, env, verbose=1)\n",
        "obs = env.reset()\n",
        "for i in range(10):\n",
        "    action, _states = model.predict(obs)\n",
        "    obs, rewards, dones, info = env.step(action)\n",
        "    print(\"harvest: \" + str(action) + \"\\n\" + \"obs: \" + str(obs) + \"\\n\" + str(rewards) + \"\\n\" + str(dones) + \"\\n\" + str(info))"
      ],
      "execution_count": 18,
      "outputs": [
        {
          "output_type": "stream",
          "text": [
            "--------------------------------------\n",
            "| current_lr              | 0.0003   |\n",
            "| episodes                | 10       |\n",
            "| fps                     | 5963     |\n",
            "| mean 100 episode reward | 0.8      |\n",
            "| n_updates               | 0        |\n",
            "| time_elapsed            | 0        |\n",
            "| total timesteps         | 13       |\n",
            "--------------------------------------\n",
            "--------------------------------------\n",
            "| current_lr              | 0.0003   |\n",
            "| episodes                | 20       |\n",
            "| fps                     | 3665     |\n",
            "| mean 100 episode reward | 0.8      |\n",
            "| n_updates               | 0        |\n",
            "| time_elapsed            | 0        |\n",
            "| total timesteps         | 30       |\n",
            "--------------------------------------\n",
            "--------------------------------------\n",
            "| current_lr              | 0.0003   |\n",
            "| episodes                | 30       |\n",
            "| fps                     | 3439     |\n",
            "| mean 100 episode reward | 0.8      |\n",
            "| n_updates               | 0        |\n",
            "| time_elapsed            | 0        |\n",
            "| total timesteps         | 45       |\n",
            "--------------------------------------\n",
            "Loading a model without an environment, this model cannot be trained until it has a valid environment.\n",
            "harvest: [0.92878664]\n",
            "obs: [0.]\n",
            "0.75\n",
            "True\n",
            "{}\n",
            "harvest: [1.]\n",
            "obs: [0.]\n",
            "0.0\n",
            "True\n",
            "{}\n",
            "harvest: [1.]\n",
            "obs: [0.]\n",
            "0.0\n",
            "True\n",
            "{}\n",
            "harvest: [1.]\n",
            "obs: [0.]\n",
            "0.0\n",
            "True\n",
            "{}\n",
            "harvest: [1.]\n",
            "obs: [0.]\n",
            "0.0\n",
            "True\n",
            "{}\n",
            "harvest: [1.]\n",
            "obs: [0.]\n",
            "0.0\n",
            "True\n",
            "{}\n",
            "harvest: [1.]\n",
            "obs: [0.]\n",
            "0.0\n",
            "True\n",
            "{}\n",
            "harvest: [1.]\n",
            "obs: [0.]\n",
            "0.0\n",
            "True\n",
            "{}\n",
            "harvest: [1.]\n",
            "obs: [0.]\n",
            "0.0\n",
            "True\n",
            "{}\n",
            "harvest: [1.]\n",
            "obs: [0.]\n",
            "0.0\n",
            "True\n",
            "{}\n"
          ],
          "name": "stdout"
        }
      ]
    }
  ]
}