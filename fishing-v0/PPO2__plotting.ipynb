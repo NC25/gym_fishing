{
  "nbformat": 4,
  "nbformat_minor": 0,
  "metadata": {
    "colab": {
      "name": "PPO2 _plotting.ipynb",
      "provenance": [],
      "collapsed_sections": [],
      "authorship_tag": "ABX9TyPv4KyNa4s7+MS0D2vSj4Ul",
      "include_colab_link": true
    },
    "kernelspec": {
      "name": "python3",
      "display_name": "Python 3"
    }
  },
  "cells": [
    {
      "cell_type": "markdown",
      "metadata": {
        "id": "view-in-github",
        "colab_type": "text"
      },
      "source": [
        "<a href=\"https://colab.research.google.com/github/NC25/gym_fishing/blob/master/fishing-v0/PPO2__plotting.ipynb\" target=\"_parent\"><img src=\"https://colab.research.google.com/assets/colab-badge.svg\" alt=\"Open In Colab\"/></a>"
      ]
    },
    {
      "cell_type": "markdown",
      "metadata": {
        "id": "FX1KY7zTm1Tr",
        "colab_type": "text"
      },
      "source": [
        "# Background\n",
        "\n",
        "PPO is an on-policy algorithim and learns directly from what the agent encounters in the environment. In contrast, off-policy, e.g DQN, uses offline experience (the replay buffer) to update gradients.\n",
        "\n",
        "PPO had improved sample-effeciecy and hyperparamter stability compared totraditional policy gradient methods. The PPO returns an estimated value function that contains noise (variance in the estimates).\n"
      ]
    },
    {
      "cell_type": "markdown",
      "metadata": {
        "id": "M1qRoP7tho3C",
        "colab_type": "text"
      },
      "source": [
        "# Dependencies"
      ]
    },
    {
      "cell_type": "code",
      "metadata": {
        "id": "aGGtLOsNpzCw",
        "colab_type": "code",
        "colab": {}
      },
      "source": [
        "%tensorflow_version 1.x\n",
        "!apt-get install ffmpeg freeglut3-dev xvfb  # For visualization\n",
        "!pip install stable-baselines[mpi]==2.10.0"
      ],
      "execution_count": null,
      "outputs": []
    },
    {
      "cell_type": "markdown",
      "metadata": {
        "id": "tVH-nqsJhnB2",
        "colab_type": "text"
      },
      "source": [
        "# Packaging"
      ]
    },
    {
      "cell_type": "code",
      "metadata": {
        "id": "xNvkSbKpp5uo",
        "colab_type": "code",
        "colab": {}
      },
      "source": [
        "!git clone https://github.com/boettiger-lab/gym_fishing.git\n",
        "!python gym_fishing/setup.py sdist bdist_wheel\n",
        "!pip install -e ./gym_fishing/\n",
        "!ls\n",
        "!cd gym_fishing"
      ],
      "execution_count": null,
      "outputs": []
    },
    {
      "cell_type": "markdown",
      "metadata": {
        "id": "7gNElRYdhxBR",
        "colab_type": "text"
      },
      "source": [
        "# Remove Warnings"
      ]
    },
    {
      "cell_type": "code",
      "metadata": {
        "id": "dYr_ns2SqG9Y",
        "colab_type": "code",
        "colab": {}
      },
      "source": [
        "import os\n",
        "os.environ['TF_CPP_MIN_LOG_LEVEL'] = '3'  # or any {'0', '1', '2'}\n",
        "import warnings\n",
        "warnings.simplefilter(action='ignore', category=FutureWarning)\n",
        "warnings.simplefilter(action='ignore', category=Warning)\n",
        "import tensorflow as tf\n",
        "tf.get_logger().setLevel('INFO')\n",
        "tf.autograph.set_verbosity(0)\n",
        "import logging\n",
        "tf.get_logger().setLevel(logging.ERROR)"
      ],
      "execution_count": 3,
      "outputs": []
    },
    {
      "cell_type": "markdown",
      "metadata": {
        "id": "QFTzmSFghzfK",
        "colab_type": "text"
      },
      "source": [
        "# Imports"
      ]
    },
    {
      "cell_type": "code",
      "metadata": {
        "id": "W3-M-CxgqCJY",
        "colab_type": "code",
        "colab": {}
      },
      "source": [
        "import gym_fishing\n",
        "import pandas as pd\n",
        "import gym\n",
        "import numpy as np\n",
        "\n",
        "from stable_baselines import PPO2\n",
        "from stable_baselines.common.policies import MlpPolicy"
      ],
      "execution_count": 4,
      "outputs": []
    },
    {
      "cell_type": "code",
      "metadata": {
        "id": "P04VMyBIiG5k",
        "colab_type": "code",
        "colab": {}
      },
      "source": [
        "%matplotlib inline\n",
        "import matplotlib.pyplot as plt"
      ],
      "execution_count": 5,
      "outputs": []
    },
    {
      "cell_type": "markdown",
      "metadata": {
        "id": "8QpnT1WWh9lP",
        "colab_type": "text"
      },
      "source": [
        "# Environment and Training"
      ]
    },
    {
      "cell_type": "code",
      "metadata": {
        "id": "8ksbUFLmqUMV",
        "colab_type": "code",
        "colab": {
          "base_uri": "https://localhost:8080/",
          "height": 35
        },
        "outputId": "ffbed01c-ead0-4f23-a5b4-901dd1da7f87"
      },
      "source": [
        "env = gym.make('fishing-v0')\n",
        "model = PPO2(MlpPolicy, env , verbose=2)"
      ],
      "execution_count": 6,
      "outputs": [
        {
          "output_type": "stream",
          "text": [
            "Wrapping the env in a DummyVecEnv.\n"
          ],
          "name": "stdout"
        }
      ]
    },
    {
      "cell_type": "code",
      "metadata": {
        "id": "HMJ8wPCbqUPV",
        "colab_type": "code",
        "colab": {}
      },
      "source": [
        "trained_model = model.learn(total_timesteps=10000)\n"
      ],
      "execution_count": null,
      "outputs": []
    },
    {
      "cell_type": "markdown",
      "metadata": {
        "id": "Vo4fiG8WiXgQ",
        "colab_type": "text"
      },
      "source": [
        "# Saving and Loading"
      ]
    },
    {
      "cell_type": "code",
      "metadata": {
        "id": "tUCYxU-Yia8u",
        "colab_type": "code",
        "colab": {}
      },
      "source": [
        "save_dir = '/path/sb/'\n",
        "os.makedirs(save_dir, exist_ok=True)"
      ],
      "execution_count": 8,
      "outputs": []
    },
    {
      "cell_type": "code",
      "metadata": {
        "id": "4DW3_3UIiJVc",
        "colab_type": "code",
        "colab": {}
      },
      "source": [
        "trained_model.save(save_dir + \"PPO2_fishing-v0\")"
      ],
      "execution_count": 9,
      "outputs": []
    },
    {
      "cell_type": "code",
      "metadata": {
        "id": "ln_xrReCiwx8",
        "colab_type": "code",
        "colab": {}
      },
      "source": [
        "#del trained_model\n",
        "\n",
        "#trained_model = PPO2.load(save_dir + \"PPO2_fishing-v0\")"
      ],
      "execution_count": 10,
      "outputs": []
    },
    {
      "cell_type": "markdown",
      "metadata": {
        "id": "16GLWSGShIYx",
        "colab_type": "text"
      },
      "source": [
        "# Driver "
      ]
    },
    {
      "cell_type": "code",
      "metadata": {
        "id": "Pu8ZqsUKTaQt",
        "colab_type": "code",
        "colab": {}
      },
      "source": [
        "def driver(trained_model, num_episodes, num_timesteps):\n",
        "   obs = env.reset()\n",
        "   y = []\n",
        "   total_rewards = []\n",
        "   all_rewards = []\n",
        "   for i in range(num_episodes):\n",
        "     action, _states = trained_model.predict(obs)\n",
        "     obs, rewards, dones, info = env.step(action)\n",
        "     y.append(action)\n",
        "     total_rewards.append(rewards)\n",
        "     all_rewards.append(sum(total_rewards))\n",
        "   def get_action():\n",
        "       return y\n",
        "   def get_reward():\n",
        "       return all_rewards\n",
        "   get_action()\n",
        "   get_reward()\n",
        "   env.render()\n",
        "   env.close()\n",
        "\n",
        "\n",
        "   #def plot_action():\n",
        "   x = np.linspace(0, num_episodes, num_episodes)\n",
        "   fig, ax = plt.subplots()  # Create a figure and an axes. \n",
        "   ax.scatter(x, get_action())\n",
        "   ax.set_xlabel('Episodes')\n",
        "   ax.set_ylabel('Harvest')\n",
        "\n",
        "    \n",
        "   #def plot_reward():\n",
        "   x = np.linspace(0, num_timesteps, num_timesteps)\n",
        "   fig, bx = plt.subplots()  # Create a figure and an axes.\n",
        "   bx.plot(x, get_reward(), label='linear')\n",
        "   bx.set_xlabel('Timesteps')\n",
        "   ax.set_ylabel('Cumulative Reward')\n",
        "\n",
        "  \n",
        "\n",
        "   \n",
        "\n",
        "\n",
        "\n",
        "\n",
        "\n"
      ],
      "execution_count": 11,
      "outputs": []
    },
    {
      "cell_type": "code",
      "metadata": {
        "id": "laPfkwgzX2ww",
        "colab_type": "code",
        "colab": {
          "base_uri": "https://localhost:8080/",
          "height": 541
        },
        "outputId": "3524a94e-026b-41ec-d8de-dfc85b03e900"
      },
      "source": [
        "driver(trained_model, 100, 100)\n"
      ],
      "execution_count": 12,
      "outputs": [
        {
          "output_type": "display_data",
          "data": {
            "image/png": "[encoded data removed]",
            "text/plain": [
              "<Figure size 432x288 with 1 Axes>"
            ]
          },
          "metadata": {
            "tags": [],
            "needs_background": "light"
          }
        },
        {
          "output_type": "display_data",
          "data": {
            "image/png": "[encoded data removed]",
            "text/plain": [
              "<Figure size 432x288 with 1 Axes>"
            ]
          },
          "metadata": {
            "tags": [],
            "needs_background": "light"
          }
        }
      ]
    }
  ]
}